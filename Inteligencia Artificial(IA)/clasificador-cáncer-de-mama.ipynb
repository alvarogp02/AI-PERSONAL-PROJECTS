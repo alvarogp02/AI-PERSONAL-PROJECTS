{
  "metadata": {
    "accelerator": "GPU",
    "colab": {
      "gpuType": "T4",
      "provenance": [],
      "name": "Clasificador Cáncer de Mama "
    },
    "kernelspec": {
      "name": "python3",
      "display_name": "Python 3",
      "language": "python"
    },
    "language_info": {
      "name": "python",
      "version": "3.10.13",
      "mimetype": "text/x-python",
      "codemirror_mode": {
        "name": "ipython",
        "version": 3
      },
      "pygments_lexer": "ipython3",
      "nbconvert_exporter": "python",
      "file_extension": ".py"
    },
    "kaggle": {
      "accelerator": "nvidiaTeslaT4",
      "dataSources": [],
      "dockerImageVersionId": 30674,
      "isInternetEnabled": true,
      "language": "python",
      "sourceType": "notebook",
      "isGpuEnabled": true
    }
  },
  "nbformat_minor": 0,
  "nbformat": 4,
  "cells": [
    {
      "cell_type": "code",
      "source": [
        "!pip install -Uqq fastai fastbook"
      ],
      "metadata": {
        "id": "6IVCj2ICr9os",
        "execution": {
          "iopub.status.busy": "2024-05-07T17:59:58.8625Z",
          "iopub.execute_input": "2024-05-07T17:59:58.863587Z",
          "iopub.status.idle": "2024-05-07T18:00:13.678985Z",
          "shell.execute_reply.started": "2024-05-07T17:59:58.863538Z",
          "shell.execute_reply": "2024-05-07T18:00:13.677635Z"
        },
        "trusted": true
      },
      "execution_count": null,
      "outputs": []
    },
    {
      "cell_type": "markdown",
      "source": [
        "Paso 1: Descargar imágenes de peces payaso y otros en general"
      ],
      "metadata": {
        "id": "rfRRt1fusbZa"
      }
    },
    {
      "cell_type": "code",
      "source": [
        "from fastcore.all import *\n",
        "from fastbook import *\n",
        "\n",
        "def search_images(term,max_images=100):\n",
        "  print(f\"Buscando imágenes de '{term}'\")\n",
        "  return search_images_ddg(term,max_images=max_images)\n",
        "urls = search_images('foto radiografía mamas sanas', max_images=1)\n",
        "urls[0]\n"
      ],
      "metadata": {
        "id": "Eduuj5PzsRGF",
        "execution": {
          "iopub.status.busy": "2024-05-07T18:02:49.058266Z",
          "iopub.execute_input": "2024-05-07T18:02:49.058695Z",
          "iopub.status.idle": "2024-05-07T18:02:51.076182Z",
          "shell.execute_reply.started": "2024-05-07T18:02:49.05866Z",
          "shell.execute_reply": "2024-05-07T18:02:51.075218Z"
        },
        "trusted": true
      },
      "execution_count": null,
      "outputs": []
    },
    {
      "cell_type": "code",
      "source": [
        "from fastdownload import download_url\n",
        "from fastai.vision.all import *\n",
        "dest='radiografia_por_determinar.jpg'\n",
        "download_url(urls[0],dest,show_progress=False)\n",
        "im=Image.open(dest)\n",
        "im.to_thumb(256,256)\n",
        "\n"
      ],
      "metadata": {
        "id": "ivSlE0MrtRw_",
        "execution": {
          "iopub.status.busy": "2024-05-07T18:02:51.077484Z",
          "iopub.execute_input": "2024-05-07T18:02:51.077781Z",
          "iopub.status.idle": "2024-05-07T18:02:52.131966Z",
          "shell.execute_reply.started": "2024-05-07T18:02:51.077756Z",
          "shell.execute_reply": "2024-05-07T18:02:52.130933Z"
        },
        "trusted": true
      },
      "execution_count": null,
      "outputs": []
    },
    {
      "cell_type": "code",
      "source": [
        "download_url(search_images('radiografía con cáncer de mama',max_images=1)[0],'radiografía con cáncer de mama.jpg',show_progress=False)\n",
        "Image.open('radiografía con cáncer de mama.jpg').to_thumb(256,256)"
      ],
      "metadata": {
        "id": "QofHenHtx-a6",
        "execution": {
          "iopub.status.busy": "2024-05-07T18:03:22.601249Z",
          "iopub.execute_input": "2024-05-07T18:03:22.601632Z",
          "iopub.status.idle": "2024-05-07T18:03:25.242169Z",
          "shell.execute_reply.started": "2024-05-07T18:03:22.6016Z",
          "shell.execute_reply": "2024-05-07T18:03:25.241242Z"
        },
        "trusted": true
      },
      "execution_count": null,
      "outputs": []
    },
    {
      "cell_type": "code",
      "source": [
        "searches = 'radiografía real mama sana','radiografía real cancer de mama'\n",
        "path = Path('sano_o_cáncer')\n",
        "from time import sleep\n",
        "\n",
        "for o in searches:\n",
        "  dest= path/o\n",
        "  dest.mkdir(exist_ok=True, parents=True)\n",
        "  download_images(dest, urls=search_images(f'{o} foto'))\n",
        "  sleep(10)  # Pause between searches to avoid over-loading server\n",
        "  download_images(dest, urls=search_images(f'{o} en hospital'))\n",
        "  sleep(10)\n",
        "  download_images(dest, urls=search_images(f'{o} diagnóstico'))\n",
        "  sleep(10)\n",
        "  resize_images(path/o, max_size=400, dest=path/o)\n"
      ],
      "metadata": {
        "id": "5GU6H78iyClA",
        "execution": {
          "iopub.status.busy": "2024-05-07T18:07:18.030682Z",
          "iopub.execute_input": "2024-05-07T18:07:18.031065Z",
          "iopub.status.idle": "2024-05-07T18:09:29.76259Z",
          "shell.execute_reply.started": "2024-05-07T18:07:18.031035Z",
          "shell.execute_reply": "2024-05-07T18:09:29.761476Z"
        },
        "trusted": true
      },
      "execution_count": null,
      "outputs": []
    },
    {
      "cell_type": "markdown",
      "source": [
        "Entrenar nuestro modelo"
      ],
      "metadata": {
        "id": "tyqVqpFR0yYs"
      }
    },
    {
      "cell_type": "code",
      "source": [
        "#verificar si hay imágenesque no se pueden abrir correctamente/dañadas\n",
        "failed = verify_images(get_image_files(path))\n",
        "failed.map(Path.unlink)\n",
        "len(failed)"
      ],
      "metadata": {
        "id": "fWOEYrAr00jJ",
        "execution": {
          "iopub.status.busy": "2024-05-07T18:09:39.706206Z",
          "iopub.execute_input": "2024-05-07T18:09:39.706637Z",
          "iopub.status.idle": "2024-05-07T18:09:40.661351Z",
          "shell.execute_reply.started": "2024-05-07T18:09:39.706591Z",
          "shell.execute_reply": "2024-05-07T18:09:40.66015Z"
        },
        "trusted": true
      },
      "execution_count": null,
      "outputs": []
    },
    {
      "cell_type": "code",
      "source": [
        "dls = DataBlock(\n",
        "    blocks = (ImageBlock,CategoryBlock),\n",
        "    get_items = get_image_files,\n",
        "    splitter=RandomSplitter(valid_pct=0.2,seed=42),\n",
        "    get_y = parent_label,\n",
        "    item_tfms=[Resize(192, method='squish')]\n",
        "    ).dataloaders(path, bs=32)\n",
        "dls.show_batch(max_n=6, figsize=(20, 5))\n"
      ],
      "metadata": {
        "id": "fbd_pCct1uR9",
        "execution": {
          "iopub.status.busy": "2024-05-07T18:09:42.414776Z",
          "iopub.execute_input": "2024-05-07T18:09:42.415162Z",
          "iopub.status.idle": "2024-05-07T18:09:43.687238Z",
          "shell.execute_reply.started": "2024-05-07T18:09:42.415129Z",
          "shell.execute_reply": "2024-05-07T18:09:43.686303Z"
        },
        "trusted": true
      },
      "execution_count": null,
      "outputs": []
    },
    {
      "cell_type": "markdown",
      "source": [
        "Ahora estamos listos para entrenar nuestro modelo. El modelo utilizado es 'resnet50'. Fastai viene con un método útil llamado 'fine_tune()' que automáticamente utiliza las mejores prácticas para ajustar finamente un modelo pre-entrenado, así que usaremos eso."
      ],
      "metadata": {
        "id": "swKLcj8J3roV"
      }
    },
    {
      "cell_type": "code",
      "source": [
        "model = vision_learner(dls, resnet18, metrics=error_rate)\n",
        "model.fine_tune(3)"
      ],
      "metadata": {
        "id": "K1Xch6Q-4s1K",
        "execution": {
          "iopub.status.busy": "2024-05-07T18:10:06.340686Z",
          "iopub.execute_input": "2024-05-07T18:10:06.341122Z",
          "iopub.status.idle": "2024-05-07T18:10:14.028342Z",
          "shell.execute_reply.started": "2024-05-07T18:10:06.341087Z",
          "shell.execute_reply": "2024-05-07T18:10:14.027269Z"
        },
        "trusted": true
      },
      "execution_count": null,
      "outputs": []
    },
    {
      "cell_type": "markdown",
      "source": [
        "Vamos a probar nuestro modelo"
      ],
      "metadata": {
        "id": "73UHODrT6g4T"
      }
    },
    {
      "cell_type": "code",
      "source": [
        "es_neum,_,prob = model.predict(PILImage.create('radiografia_por_determinar.jpg'))\n",
        "print(f\"Esto es un: {es_neum}.\")\n",
        "print(f\"Probabilidad de que sea un una persona con cáncer de mama: {prob[0]:.4f}\")"
      ],
      "metadata": {
        "id": "tEYMSK-86kEV",
        "execution": {
          "iopub.status.busy": "2024-05-07T18:10:37.564944Z",
          "iopub.execute_input": "2024-05-07T18:10:37.565368Z",
          "iopub.status.idle": "2024-05-07T18:10:37.709491Z",
          "shell.execute_reply.started": "2024-05-07T18:10:37.565336Z",
          "shell.execute_reply": "2024-05-07T18:10:37.70851Z"
        },
        "trusted": true
      },
      "execution_count": null,
      "outputs": []
    },
    {
      "cell_type": "code",
      "source": [],
      "metadata": {
        "id": "v0aswzkceMV8"
      },
      "execution_count": null,
      "outputs": []
    },
    {
      "cell_type": "code",
      "source": [
        "model.export('model.pkl')\n",
        "\n",
        "\n",
        "!pip install nbconvert\n",
        "!jupyter nbconvert --to html Clasificador: ¿Pez payaso o tropical?.ipynb\n"
      ],
      "metadata": {
        "execution": {
          "iopub.status.busy": "2024-06-02T14:11:40.041074Z",
          "iopub.execute_input": "2024-06-02T14:11:40.041326Z"
        },
        "trusted": true,
        "id": "rUY94sNEeMV8"
      },
      "execution_count": null,
      "outputs": []
    }
  ]
}